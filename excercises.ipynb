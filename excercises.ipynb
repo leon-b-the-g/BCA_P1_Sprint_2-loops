{
 "cells": [
  {
   "cell_type": "code",
   "execution_count": 11,
   "metadata": {},
   "outputs": [
    {
     "name": "stdout",
     "output_type": "stream",
     "text": [
      "Leon\n",
      "25\n",
      "-7\n",
      "You are older than 21 by 4 years.\n",
      "You are younger than Julia.\n"
     ]
    }
   ],
   "source": [
    "#Ex.1\n",
    "my_name = \"Leon\"\n",
    "print (my_name)\n",
    "\n",
    "#Ex.2\n",
    "my_age = 25\n",
    "print(my_age)\n",
    "\n",
    "\n",
    "#Ex.3\n",
    "julia_age = 32\n",
    "\n",
    "age_diff = my_age -julia_age\n",
    "\n",
    "print(age_diff)\n",
    "\n",
    "\n",
    "#Ex.4\n",
    "if my_age >= 21: \n",
    "    print(\"You are older than 21 by\",(my_age-21),\"years.\")\n",
    "\n",
    "else:\n",
    "    print(\"You are younger than 21 by \",(my_age-21)*-1,\" years.\")\n",
    "\n",
    "#Ex.5\n",
    "if my_age == julia_age:\n",
    "    print(\"You are the same age as Julia.\")\n",
    "elif my_age > julia_age:\n",
    "    print(\"You are older than Julia.\")\n",
    "elif my_age < julia_age:\n",
    "    print(\"You are younger than Julia.\")\n",
    "\n"
   ]
  },
  {
   "cell_type": "code",
   "execution_count": 12,
   "metadata": {},
   "outputs": [
    {
     "name": "stdout",
     "output_type": "stream",
     "text": [
      "['Abdoul', 'Bjorn', 'Emily', 'Enzo', 'Jost', 'Karan', 'Killian', 'Leon', 'Lucas', 'Muayad', 'Raul', 'Serghei']\n",
      "List element 1: Abdoul\n",
      "Last element of list: Serghei\n",
      "Abdoul\n",
      "Bjorn\n",
      "Emily\n",
      "Enzo\n",
      "Jost\n",
      "Karan\n",
      "Killian\n",
      "Leon\n",
      "Lucas\n",
      "Muayad\n",
      "Raul\n",
      "Serghei\n"
     ]
    }
   ],
   "source": [
    "#Ex.6\n",
    "#List with all names in class\n",
    "names=(\"Muayad\",\"Bjorn\",\"Emily\",\n",
    "       \"Enzo\",\"Abdoul\",\"Jost\",\"Karan\",\n",
    "       \"Killian\",\"Leon\",\"Lucas\",\"Raul\",\"Serghei\")\n",
    "\n",
    "names_alphabetical = sorted(names)\n",
    "print(names_alphabetical)\n",
    "\n",
    "print(\"List element 1:\",names_alphabetical[0])\n",
    "print(\"Last element of list:\",names_alphabetical[-1])\n",
    "\n",
    "for x in names_alphabetical:\n",
    "    print(x)\n"
   ]
  },
  {
   "cell_type": "code",
   "execution_count": 13,
   "metadata": {},
   "outputs": [
    {
     "name": "stdout",
     "output_type": "stream",
     "text": [
      "12\n",
      "age_list content: 27\n",
      "age_list content: 25\n",
      "age_list content: 22\n",
      "age_list content: 30\n",
      "age_list content: 32\n",
      "age_list content: 40\n",
      "age_list content: 34\n",
      "age_list content: 33\n",
      "age_list content: 29\n",
      "age_list content: 27\n",
      "age_list content: 46\n",
      "age_list content: 22\n",
      "Even age: 22\n",
      "Even age: 30\n",
      "Even age: 32\n",
      "Even age: 40\n",
      "Even age: 34\n",
      "Even age: 46\n",
      "Even age: 22\n"
     ]
    }
   ],
   "source": [
    "#Ex.7: print even ages\n",
    "print(len(names)) # we need 12 ages\n",
    "\n",
    "age_list = [27,25,22,30,32,40,34,33,29,27,46,22]\n",
    "\n",
    "#Print all ages\n",
    "for x in age_list:\n",
    "    print(\"age_list content:\",x)\n",
    "    #print(type(x))\n",
    "    #print(type(x/2))\n",
    "\n",
    "\n",
    "    \n",
    "#Print all ages if even\n",
    "for x in age_list:\n",
    "    if x%2 == 0:\n",
    "        print(\"Even age:\",x)\n",
    "    \n",
    "    else:\n",
    "        continue\n",
    "\n",
    "\n",
    "\n",
    "    "
   ]
  },
  {
   "cell_type": "code",
   "execution_count": 14,
   "metadata": {},
   "outputs": [
    {
     "name": "stdout",
     "output_type": "stream",
     "text": [
      "Smallest number in list is: 1\n"
     ]
    }
   ],
   "source": [
    "#Ex 8: print lowest number\n",
    "\n",
    "#Make a list of numbers \n",
    "numbers = []\n",
    "for num in range(1,21,1):\n",
    "    numbers.append(num)\n",
    "\n",
    "#Print smallest\n",
    "print(\"Smallest number in list is:\", min(numbers))\n",
    "\n"
   ]
  },
  {
   "cell_type": "code",
   "execution_count": 15,
   "metadata": {},
   "outputs": [
    {
     "name": "stdout",
     "output_type": "stream",
     "text": [
      "Biggest number in list: 20\n"
     ]
    }
   ],
   "source": [
    "#Ex 9: print highest number\n",
    "print(\"Biggest number in list:\", max(numbers))\n",
    "\n"
   ]
  },
  {
   "cell_type": "code",
   "execution_count": 16,
   "metadata": {},
   "outputs": [
    {
     "name": "stdout",
     "output_type": "stream",
     "text": [
      "25\n",
      "29\n",
      "19\n",
      "14\n",
      "17\n",
      "18\n",
      "30\n",
      "28\n",
      "45\n",
      "16\n"
     ]
    }
   ],
   "source": [
    "#Ex 10: print age given birth year\n",
    "\n",
    "age_list = [1999, 1995, 2005, 2010, 2007, 2006, 1994, 1996, 1979, 2008]\n",
    "\n",
    "#for loop that prints age \n",
    "for age in age_list:\n",
    "    print(2024-age)\n",
    "\n",
    "\n"
   ]
  },
  {
   "cell_type": "code",
   "execution_count": 17,
   "metadata": {},
   "outputs": [
    {
     "name": "stdout",
     "output_type": "stream",
     "text": [
      "Bob is 25 years old.\n",
      "Jack is 29 years old.\n",
      "Lisa is 19 years old.\n",
      "Maria is 14 years old.\n",
      "Ben is 17 years old.\n",
      "Emma is 18 years old.\n",
      "Oscar is 30 years old.\n",
      "Amy is 28 years old.\n",
      "Paul is 45 years old.\n",
      "Etta is 16 years old.\n"
     ]
    }
   ],
   "source": [
    "#Ex: 11, print out customer list names and age\n",
    "customer_list = [\n",
    "                    {\"name\": \"Bob\", \"age\": 1999},\n",
    "                    {\"name\": \"Jack\", \"age\": 1995},\n",
    "                    {\"name\": \"Lisa\", \"age\": 2005},\n",
    "                    {\"name\": \"Maria\", \"age\": 2010},\n",
    "                    {\"name\": \"Ben\", \"age\": 2007},\n",
    "                    {\"name\": \"Emma\", \"age\": 2006},\n",
    "                    {\"name\": \"Oscar\", \"age\": 1994},\n",
    "                    {\"name\": \"Amy\", \"age\": 1996},\n",
    "                    {\"name\": \"Paul\", \"age\": 1979},\n",
    "                    {\"name\": \"Etta\", \"age\": 2008}\n",
    "                ]\n",
    "\n",
    "#for loop that iterates through list and for each list member, it calls the name and age key \n",
    "for list_element in customer_list:\n",
    "        customer_age = 2024 - list_element['age']\n",
    "        print(f\"{list_element['name']} is {customer_age} years old.\")"
   ]
  },
  {
   "cell_type": "code",
   "execution_count": 18,
   "metadata": {},
   "outputs": [
    {
     "name": "stdout",
     "output_type": "stream",
     "text": [
      "ages before removal: [20, 24, 14, 9, 12, 13, 25, 23, 40, 11]\n",
      "After removal: [20, 24, 14, 12, 13, 25, 23, 11]\n"
     ]
    }
   ],
   "source": [
    "#Ex 12: remove youngest and oldest age from a list \n",
    "\n",
    "ages = [20, 24, 14, 9, 12, 13, 25, 23, 40, 11]\n",
    "\n",
    "print(\"ages before removal:\",ages)\n",
    "\n",
    "lowest_age = min(ages)\n",
    "highest_age = max(ages)\n",
    "\n",
    "#Pull index position on the ages \n",
    "ages.pop(ages.index(lowest_age))\n",
    "ages.pop(ages.index(highest_age))\n",
    "\n",
    "print(\"After removal:\",ages)\n",
    "#print(len(ages))\n"
   ]
  },
  {
   "cell_type": "code",
   "execution_count": 19,
   "metadata": {},
   "outputs": [
    {
     "name": "stdout",
     "output_type": "stream",
     "text": [
      "[13, 15, 19, 18, 10, 16]\n"
     ]
    }
   ],
   "source": [
    "#Ex 13: Two list, find common list members\n",
    "\n",
    "berlin = [15, 13, 16, 18, 19, 10, 12 ]\n",
    "munich = [7, 13, 15, 20, 19, 18, 10, 16]\n",
    "\n",
    "berlin_munich_commonalities = []\n",
    "#Nested for loop, iterates over list and then checks if it matches a member of the second list\n",
    "for x in munich:\n",
    "    for y in berlin:\n",
    "        #If memebrs match, append to new list\n",
    "        if x == y:\n",
    "            berlin_munich_commonalities.append(x)\n",
    "\n",
    "print(berlin_munich_commonalities)\n",
    "\n"
   ]
  },
  {
   "cell_type": "code",
   "execution_count": 20,
   "metadata": {},
   "outputs": [
    {
     "name": "stdout",
     "output_type": "stream",
     "text": [
      "{10, 13, 15, 16, 18, 19}\n"
     ]
    }
   ],
   "source": [
    "#Ex: 14 remove duplicates\n",
    "\n",
    "duplicate_list = [15,13,16,18,19,15,10]\n",
    "\n",
    "removed_duplicates = set(duplicate_list)\n",
    "\n",
    "print(removed_duplicates)\n"
   ]
  },
  {
   "cell_type": "code",
   "execution_count": 21,
   "metadata": {},
   "outputs": [
    {
     "name": "stdout",
     "output_type": "stream",
     "text": [
      "Welcome Evelyn, have a nice day!\n",
      "Welcome Jost, have a nice day!\n"
     ]
    }
   ],
   "source": [
    "#Ex 15: write a welcome function\n",
    "\n",
    "def welcome(name):\n",
    "    print(f\"Welcome {name}, have a nice day!\")\n",
    "\n",
    "welcome('Evelyn')\n",
    "welcome('Jost')\n",
    "\n",
    "            "
   ]
  },
  {
   "cell_type": "code",
   "execution_count": 22,
   "metadata": {},
   "outputs": [
    {
     "name": "stdout",
     "output_type": "stream",
     "text": [
      "5\n",
      "2\n"
     ]
    }
   ],
   "source": [
    "#Ex 16: get_length of string function\n",
    "\n",
    "def get_length(string):\n",
    "    #Use len function to get length \n",
    "    length_of_string =len(string)\n",
    "    print(length_of_string)\n",
    "\n",
    "get_length('Hello')\n",
    "get_length('Hi')\n"
   ]
  },
  {
   "cell_type": "code",
   "execution_count": 23,
   "metadata": {},
   "outputs": [
    {
     "name": "stdout",
     "output_type": "stream",
     "text": [
      "Yes\n",
      "No\n"
     ]
    }
   ],
   "source": [
    "# Ex 17: function to check if even\n",
    "\n",
    "def check_even(x):\n",
    "    #Mod op to check for remainder after division\n",
    "    if (x%2) == 0:\n",
    "        print('Yes')\n",
    "    \n",
    "    else:\n",
    "        print('No')\n",
    "    \n",
    "check_even(6)\n",
    "check_even(5)"
   ]
  },
  {
   "cell_type": "code",
   "execution_count": 24,
   "metadata": {},
   "outputs": [
    {
     "data": {
      "text/plain": [
       "25"
      ]
     },
     "execution_count": 24,
     "metadata": {},
     "output_type": "execute_result"
    }
   ],
   "source": []
  },
  {
   "cell_type": "code",
   "execution_count": 4,
   "metadata": {},
   "outputs": [
    {
     "name": "stdout",
     "output_type": "stream",
     "text": [
      "Bob is 25 years old.\n",
      "Jack is 29 years old.\n",
      "Lisa is 19 years old.\n",
      "Maria is 14 years old.\n",
      "Ben is 17 years old.\n",
      "Emma is 18 years old.\n",
      "Oscar is 30 years old.\n",
      "Amy is 28 years old.\n",
      "Paul is 45 years old.\n",
      "Etta is 16 years old.\n"
     ]
    }
   ],
   "source": [
    "#Ex 18: rewrtie 11-15 in a function\n",
    "from datetime import datetime\n",
    "current_year = datetime.now().year\n",
    "#Ex: 11, print out customer list names and age\n",
    "customer_list = [\n",
    "                    {\"name\": \"Bob\", \"age\": 1999},\n",
    "                    {\"name\": \"Jack\", \"age\": 1995},\n",
    "                    {\"name\": \"Lisa\", \"age\": 2005},\n",
    "                    {\"name\": \"Maria\", \"age\": 2010},\n",
    "                    {\"name\": \"Ben\", \"age\": 2007},\n",
    "                    {\"name\": \"Emma\", \"age\": 2006},\n",
    "                    {\"name\": \"Oscar\", \"age\": 1994},\n",
    "                    {\"name\": \"Amy\", \"age\": 1996},\n",
    "                    {\"name\": \"Paul\", \"age\": 1979},\n",
    "                    {\"name\": \"Etta\", \"age\": 2008}\n",
    "]\n",
    "#Function for printing name and age of a customer\n",
    "def ex_11(input_list):\n",
    "    #for loop that iterates through list and for each list member, it calls the name and age key \n",
    "        customer = []\n",
    "        for list_element in input_list:\n",
    "                customer_age = current_year - (list_element[\"age\"])\n",
    "                customer.append(customer_age)\n",
    "                print(f\"{list_element['name']} is {customer_age} years old.\")\n",
    "    \n",
    "        \n",
    "#call function with nested list of ex 11\n",
    "ex_11(customer_list)\n",
    "\n"
   ]
  },
  {
   "cell_type": "code",
   "execution_count": null,
   "metadata": {},
   "outputs": [],
   "source": [
    "\n",
    "age_list = [27,25,22,30,32,40,34,33,29,27,46,22]\n",
    "#Function for removing lowest and highest age\n",
    "def ex_12(age_inputlist):\n",
    "    lowest_age = min(age_inputlist)\n",
    "    highest_age = max(age_inputlist)\n",
    "\n",
    "    #Pull index position on the ages \n",
    "    age_inputlist.pop(age_inputlist.index(lowest_age))\n",
    "    age_inputlist.pop(age_inputlist.index(highest_age))\n",
    "    print(\"After removal:\",age_inputlist)\n",
    "\n",
    "#call function with ages list from ex 12\n",
    "ex_11(age_list)\n"
   ]
  },
  {
   "cell_type": "code",
   "execution_count": 83,
   "metadata": {},
   "outputs": [
    {
     "name": "stdout",
     "output_type": "stream",
     "text": [
      "[15, 13, 16, 18, 19, 10]\n",
      "{10, 13, 15, 16, 18, 19}\n"
     ]
    }
   ],
   "source": [
    "#Ex 13 as a function: Two lists, find common list members\n",
    "def ex_13(list_1,list_2):\n",
    "     #Make empty list\n",
    "    commonalities = []\n",
    "    #commons = [num for num in list_1 if num in list_2]\n",
    "        #^one line flex, list comprehension\n",
    "    for x in list_1:\n",
    "        for y in list_2:\n",
    "            if x == y:\n",
    "                commonalities.append(x)    \n",
    "    print(commonalities)\n",
    "#Calling function with berlin and munich lists from ex 13\n",
    "ex_13(berlin,munich)\n",
    "\n",
    "#Ex: 14 as a function; remove duplicates\n",
    "\n",
    "def ex_14(input_list):\n",
    "     removed_duplicates = set(input_list)\n",
    "     print(removed_duplicates)\n",
    "\n",
    "#Run function using duplicate list from ex 14\n",
    "ex_14(duplicate_list)\n",
    "\n"
   ]
  },
  {
   "cell_type": "code",
   "execution_count": 1,
   "metadata": {},
   "outputs": [
    {
     "name": "stdout",
     "output_type": "stream",
     "text": [
      "[1, 2, 3, 4, 5, 6, 7, 8, 9, 10, 11, 12, 13, 14, 15, 16, 17, 18, 19, 20]\n",
      "5 is in your list;\n"
     ]
    },
    {
     "data": {
      "text/plain": [
       "True"
      ]
     },
     "execution_count": 1,
     "metadata": {},
     "output_type": "execute_result"
    }
   ],
   "source": [
    "#Ex 19: write a function that takes a list input and checks if a value is in list, return boolean\n",
    "\n",
    "def check_list(list,value):\n",
    "    for x in list:\n",
    "        if x == value:\n",
    "            print(f\"{x} is in your list;\")\n",
    "            return True\n",
    "    else: \n",
    "        return False\n",
    "\n",
    "sample_list = []\n",
    "for num in range(1,21,1):\n",
    "    sample_list.append(num)\n",
    "\n",
    "sample_value = 5\n",
    "\n",
    "print(sample_list)\n",
    "\n",
    "check_list(sample_list,sample_value)"
   ]
  },
  {
   "cell_type": "code",
   "execution_count": 7,
   "metadata": {},
   "outputs": [
    {
     "name": "stdout",
     "output_type": "stream",
     "text": [
      "Return of Sample_1: 11\n",
      "Return of sample_2: 160\n"
     ]
    }
   ],
   "source": [
    "#Intermediate excercise 1.\n",
    "\n",
    "#Sample test arrays:\n",
    "sample_1 =[2, 4, 0, 100, 4, 11, 2602, 36]\n",
    "sample_2 = [160, 3, 1719, 19, 11, 13, -21]\n",
    "#Should return: 11 (the only odd number)\n",
    "\n",
    "def give_outlier(sample_array):\n",
    "    even_list = []\n",
    "    odd_list = []\n",
    "    for x in sample_array:\n",
    "        if x%2 == 0:\n",
    "            even_list.append(x)\n",
    "        elif x/2 != 0:\n",
    "            odd_list.append(x)\n",
    "    if len(even_list) == 1:\n",
    "        return even_list[0]\n",
    "    \n",
    "    elif len(odd_list) == 1:\n",
    "        return odd_list[0]\n",
    "    \n",
    "    else:\n",
    "        print (\"Length of even list:\", len(even_list))\n",
    "        print(\"Length of odd list:\", len(odd_list))\n",
    "\n",
    "\n",
    "print(\"Return of Sample_1:\",give_outlier(sample_1))\n",
    "\n",
    "\n",
    "print(\"Return of sample_2:\",give_outlier(sample_2))"
   ]
  },
  {
   "cell_type": "code",
   "execution_count": 13,
   "metadata": {},
   "outputs": [
    {
     "name": "stdout",
     "output_type": "stream",
     "text": [
      "1\n",
      "125\n",
      "27\n",
      "True\n",
      "1\n",
      "1296\n",
      "81\n",
      "256\n",
      "True\n",
      "1\n",
      "0\n",
      "8\n",
      "False\n"
     ]
    }
   ],
   "source": [
    "#Intermediate excercises Set 2, excercise 2: Narcisstic number\n",
    "\n",
    "def Narc_number_finder(number):\n",
    "    each_digit = []\n",
    "    stringedout_number = str(number) \n",
    "    how_long = len(stringedout_number)\n",
    "    \n",
    "    for x in stringedout_number:\n",
    "        each_digit.append(int(x))\n",
    "\n",
    "    final_calc = []\n",
    "    for x in each_digit:\n",
    "        final_calc.append(x**how_long)\n",
    "    \n",
    "    #add it all up\n",
    "    result = 0\n",
    "    for x in final_calc:\n",
    "        result += x\n",
    "        print(x)\n",
    "\n",
    "    #check if Narc\n",
    "    if result == number:\n",
    "        return True\n",
    "\n",
    "    else:\n",
    "        return False\n",
    "    \n",
    "print(Narc_number_finder(153))\n",
    "\n",
    "print(Narc_number_finder(1634))\n",
    "    \n",
    "print(Narc_number_finder(102))"
   ]
  }
 ],
 "metadata": {
  "kernelspec": {
   "display_name": "Sprint_1-env",
   "language": "python",
   "name": "python3"
  },
  "language_info": {
   "codemirror_mode": {
    "name": "ipython",
    "version": 3
   },
   "file_extension": ".py",
   "mimetype": "text/x-python",
   "name": "python",
   "nbconvert_exporter": "python",
   "pygments_lexer": "ipython3",
   "version": "3.10.14"
  }
 },
 "nbformat": 4,
 "nbformat_minor": 2
}
